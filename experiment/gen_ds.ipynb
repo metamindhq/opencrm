{
 "cells": [
  {
   "cell_type": "code",
   "outputs": [],
   "source": [
    "import pandas as pd\n",
    "import google.generativeai as genai"
   ],
   "metadata": {
    "collapsed": false,
    "ExecuteTime": {
     "end_time": "2024-05-04T18:20:15.913851Z",
     "start_time": "2024-05-04T18:20:12.342893Z"
    }
   },
   "id": "a34a8a1e56b8e963",
   "execution_count": 1
  },
  {
   "cell_type": "code",
   "outputs": [],
   "source": [
    "\n",
    "GOOGLE_API_KEY=''\n",
    "genai.configure(api_key=GOOGLE_API_KEY)"
   ],
   "metadata": {
    "collapsed": false,
    "ExecuteTime": {
     "end_time": "2024-05-04T18:23:39.848704Z",
     "start_time": "2024-05-04T18:23:39.844814Z"
    }
   },
   "id": "b42a781311f5ffda",
   "execution_count": 4
  },
  {
   "cell_type": "code",
   "outputs": [],
   "source": [
    "generation_config = {\n",
    "  \"candidate_count\": 1,\n",
    "  \"max_output_tokens\": 256,\n",
    "  \"temperature\": 0.2\n",
    "}\n",
    "\n",
    "safety_settings=[\n",
    "  {\n",
    "    \"category\": \"HARM_CATEGORY_DANGEROUS\",\n",
    "    \"threshold\": \"BLOCK_NONE\",\n",
    "  },\n",
    "  {\n",
    "    \"category\": \"HARM_CATEGORY_HARASSMENT\",\n",
    "    \"threshold\": \"BLOCK_NONE\",\n",
    "  },\n",
    "  {\n",
    "    \"category\": \"HARM_CATEGORY_HATE_SPEECH\",\n",
    "    \"threshold\": \"BLOCK_NONE\",\n",
    "  },\n",
    "  {\n",
    "    \"category\": \"HARM_CATEGORY_SEXUALLY_EXPLICIT\",\n",
    "    \"threshold\": \"BLOCK_NONE\",\n",
    "  },\n",
    "  {\n",
    "    \"category\": \"HARM_CATEGORY_DANGEROUS_CONTENT\",\n",
    "    \"threshold\": \"BLOCK_NONE\",\n",
    "  },\n",
    "]\n",
    "model = genai.GenerativeModel('gemini-pro', safety_settings=safety_settings, generation_config=generation_config)"
   ],
   "metadata": {
    "collapsed": false,
    "ExecuteTime": {
     "end_time": "2024-05-04T18:25:31.657951Z",
     "start_time": "2024-05-04T18:25:31.654483Z"
    }
   },
   "id": "5312e8711e3e8b96",
   "execution_count": 6
  },
  {
   "cell_type": "code",
   "outputs": [
    {
     "name": "stdout",
     "output_type": "stream",
     "text": [
      "```python\n",
      "# Create a list of unsorted numbers\n",
      "unsorted_list = [5, 2, 8, 3, 1, 9, 4, 7, 6]\n",
      "\n",
      "# Sort the list in ascending order using the sorted() function\n",
      "sorted_list = sorted(unsorted_list)\n",
      "\n",
      "# Print the sorted list\n",
      "print(sorted_list)\n",
      "```\n"
     ]
    }
   ],
   "source": [
    "response = model.generate_content(\"Give me python code to sort a list\")\n",
    "print(response.text)"
   ],
   "metadata": {
    "collapsed": false,
    "ExecuteTime": {
     "end_time": "2024-05-04T18:25:37.739801Z",
     "start_time": "2024-05-04T18:25:35.628380Z"
    }
   },
   "id": "7bfadf6f0e270c2e",
   "execution_count": 7
  },
  {
   "cell_type": "code",
   "outputs": [],
   "source": [
    "ds = pd.read_csv('release_train_patients')"
   ],
   "metadata": {
    "collapsed": false,
    "ExecuteTime": {
     "end_time": "2024-05-04T18:31:13.268724Z",
     "start_time": "2024-05-04T18:31:07.418734Z"
    }
   },
   "id": "cf59af0170290d9e",
   "execution_count": 8
  },
  {
   "cell_type": "code",
   "outputs": [
    {
     "data": {
      "text/plain": "         AGE                             DIFFERENTIAL_DIAGNOSIS SEX  \\\n0         18  [['Bronchitis', 0.19171203430383882], ['Pneumo...   M   \n1         21  [['HIV (initial infection)', 0.518950056440760...   M   \n2         19  [['Bronchitis', 0.11278064619119596], ['Pneumo...   F   \n3         34  [['URTI', 0.23859396799565236], ['Cluster head...   F   \n4         36  [['URTI', 0.23677812769175735], ['Influenza', ...   M   \n...      ...                                                ...  ..   \n1025597   18  [['Epiglottitis', 0.28156957795466475], ['HIV ...   M   \n1025598   28  [['Epiglottitis', 0.3703962237298842], ['Laryg...   F   \n1025599    0  [['Epiglottitis', 0.13193905052537108], ['Crou...   F   \n1025600   26  [['Epiglottitis', 0.3028258988138983], ['Acute...   F   \n1025601   25  [['Epiglottitis', 0.12896823203696775], ['Acut...   F   \n\n                       PATHOLOGY  \\\n0                           URTI   \n1        HIV (initial infection)   \n2                      Pneumonia   \n3                           URTI   \n4                           URTI   \n...                          ...   \n1025597             Epiglottitis   \n1025598             Epiglottitis   \n1025599             Epiglottitis   \n1025600             Epiglottitis   \n1025601             Epiglottitis   \n\n                                                 EVIDENCES INITIAL_EVIDENCE  \n0        ['E_48', 'E_50', 'E_53', 'E_54_@_V_161', 'E_54...             E_91  \n1        ['E_9', 'E_27', 'E_50', 'E_51', 'E_53', 'E_54_...             E_50  \n2        ['E_53', 'E_54_@_V_179', 'E_54_@_V_192', 'E_55...             E_77  \n3        ['E_48', 'E_53', 'E_54_@_V_183', 'E_55_@_V_89'...             E_53  \n4        ['E_49', 'E_50', 'E_53', 'E_54_@_V_183', 'E_55...            E_201  \n...                                                    ...              ...  \n1025597  ['E_33', 'E_53', 'E_54_@_V_179', 'E_54_@_V_192...             E_91  \n1025598  ['E_53', 'E_54_@_V_192', 'E_55_@_V_20', 'E_55_...             E_91  \n1025599  ['E_33', 'E_53', 'E_54_@_V_192', 'E_55_@_V_20'...            E_194  \n1025600  ['E_53', 'E_54_@_V_179', 'E_54_@_V_192', 'E_55...            E_194  \n1025601  ['E_53', 'E_54_@_V_179', 'E_55_@_V_20', 'E_55_...             E_53  \n\n[1025602 rows x 6 columns]",
      "text/html": "<div>\n<style scoped>\n    .dataframe tbody tr th:only-of-type {\n        vertical-align: middle;\n    }\n\n    .dataframe tbody tr th {\n        vertical-align: top;\n    }\n\n    .dataframe thead th {\n        text-align: right;\n    }\n</style>\n<table border=\"1\" class=\"dataframe\">\n  <thead>\n    <tr style=\"text-align: right;\">\n      <th></th>\n      <th>AGE</th>\n      <th>DIFFERENTIAL_DIAGNOSIS</th>\n      <th>SEX</th>\n      <th>PATHOLOGY</th>\n      <th>EVIDENCES</th>\n      <th>INITIAL_EVIDENCE</th>\n    </tr>\n  </thead>\n  <tbody>\n    <tr>\n      <th>0</th>\n      <td>18</td>\n      <td>[['Bronchitis', 0.19171203430383882], ['Pneumo...</td>\n      <td>M</td>\n      <td>URTI</td>\n      <td>['E_48', 'E_50', 'E_53', 'E_54_@_V_161', 'E_54...</td>\n      <td>E_91</td>\n    </tr>\n    <tr>\n      <th>1</th>\n      <td>21</td>\n      <td>[['HIV (initial infection)', 0.518950056440760...</td>\n      <td>M</td>\n      <td>HIV (initial infection)</td>\n      <td>['E_9', 'E_27', 'E_50', 'E_51', 'E_53', 'E_54_...</td>\n      <td>E_50</td>\n    </tr>\n    <tr>\n      <th>2</th>\n      <td>19</td>\n      <td>[['Bronchitis', 0.11278064619119596], ['Pneumo...</td>\n      <td>F</td>\n      <td>Pneumonia</td>\n      <td>['E_53', 'E_54_@_V_179', 'E_54_@_V_192', 'E_55...</td>\n      <td>E_77</td>\n    </tr>\n    <tr>\n      <th>3</th>\n      <td>34</td>\n      <td>[['URTI', 0.23859396799565236], ['Cluster head...</td>\n      <td>F</td>\n      <td>URTI</td>\n      <td>['E_48', 'E_53', 'E_54_@_V_183', 'E_55_@_V_89'...</td>\n      <td>E_53</td>\n    </tr>\n    <tr>\n      <th>4</th>\n      <td>36</td>\n      <td>[['URTI', 0.23677812769175735], ['Influenza', ...</td>\n      <td>M</td>\n      <td>URTI</td>\n      <td>['E_49', 'E_50', 'E_53', 'E_54_@_V_183', 'E_55...</td>\n      <td>E_201</td>\n    </tr>\n    <tr>\n      <th>...</th>\n      <td>...</td>\n      <td>...</td>\n      <td>...</td>\n      <td>...</td>\n      <td>...</td>\n      <td>...</td>\n    </tr>\n    <tr>\n      <th>1025597</th>\n      <td>18</td>\n      <td>[['Epiglottitis', 0.28156957795466475], ['HIV ...</td>\n      <td>M</td>\n      <td>Epiglottitis</td>\n      <td>['E_33', 'E_53', 'E_54_@_V_179', 'E_54_@_V_192...</td>\n      <td>E_91</td>\n    </tr>\n    <tr>\n      <th>1025598</th>\n      <td>28</td>\n      <td>[['Epiglottitis', 0.3703962237298842], ['Laryg...</td>\n      <td>F</td>\n      <td>Epiglottitis</td>\n      <td>['E_53', 'E_54_@_V_192', 'E_55_@_V_20', 'E_55_...</td>\n      <td>E_91</td>\n    </tr>\n    <tr>\n      <th>1025599</th>\n      <td>0</td>\n      <td>[['Epiglottitis', 0.13193905052537108], ['Crou...</td>\n      <td>F</td>\n      <td>Epiglottitis</td>\n      <td>['E_33', 'E_53', 'E_54_@_V_192', 'E_55_@_V_20'...</td>\n      <td>E_194</td>\n    </tr>\n    <tr>\n      <th>1025600</th>\n      <td>26</td>\n      <td>[['Epiglottitis', 0.3028258988138983], ['Acute...</td>\n      <td>F</td>\n      <td>Epiglottitis</td>\n      <td>['E_53', 'E_54_@_V_179', 'E_54_@_V_192', 'E_55...</td>\n      <td>E_194</td>\n    </tr>\n    <tr>\n      <th>1025601</th>\n      <td>25</td>\n      <td>[['Epiglottitis', 0.12896823203696775], ['Acut...</td>\n      <td>F</td>\n      <td>Epiglottitis</td>\n      <td>['E_53', 'E_54_@_V_179', 'E_55_@_V_20', 'E_55_...</td>\n      <td>E_53</td>\n    </tr>\n  </tbody>\n</table>\n<p>1025602 rows × 6 columns</p>\n</div>"
     },
     "execution_count": 14,
     "metadata": {},
     "output_type": "execute_result"
    }
   ],
   "source": [
    "ds"
   ],
   "metadata": {
    "collapsed": false,
    "ExecuteTime": {
     "end_time": "2024-05-04T18:47:03.273514Z",
     "start_time": "2024-05-04T18:47:03.270490Z"
    }
   },
   "id": "926430559786e05a",
   "execution_count": 14
  },
  {
   "cell_type": "code",
   "outputs": [
    {
     "data": {
      "text/plain": "AGE                       50665\nDIFFERENTIAL_DIAGNOSIS    50665\nSEX                       50665\nPATHOLOGY                 50665\nEVIDENCES                 50665\nINITIAL_EVIDENCE          50665\ndtype: int64"
     },
     "execution_count": 17,
     "metadata": {},
     "output_type": "execute_result"
    }
   ],
   "source": [
    "ds[ds.PATHOLOGY== 'Anemia'].count()"
   ],
   "metadata": {
    "collapsed": false,
    "ExecuteTime": {
     "end_time": "2024-05-04T18:53:20.494565Z",
     "start_time": "2024-05-04T18:53:20.341999Z"
    }
   },
   "id": "47206e0fb00e3862",
   "execution_count": 17
  },
  {
   "cell_type": "code",
   "outputs": [
    {
     "data": {
      "text/plain": "PATHOLOGY\nURTI                                        64368\nViral pharyngitis                           61642\nAnemia                                      50665\nHIV (initial infection)                     29013\nLocalized edema                             27825\nAnaphylaxis                                 27718\nPulmonary embolism                          27468\nInfluenza                                   26812\nBronchitis                                  26400\nAllergic sinusitis                          26203\nAcute dystonic reactions                    25982\nGERD                                        25979\nAcute otitis media                          25917\nPneumonia                                   25761\nPanic attack                                25019\nAcute laryngitis                            24129\nGuillain-Barré syndrome                     22867\nPericarditis                                22785\nSarcoidosis                                 21285\nPossible NSTEMI / STEMI                     21260\nUnstable angina                             21244\nAtrial fibrillation                         21036\nCluster headache                            20804\nChronic rhinosinusitis                      20579\nInguinal hernia                             20235\nBronchospasm / acute asthma exacerbation    19875\nAcute pulmonary edema                       19018\nPancreatic neoplasm                         18846\nBronchiectasis                              18795\nPSVT                                        18781\nMyasthenia gravis                           18566\nScombroid food poisoning                    18535\nAcute COPD exacerbation / infection         17661\nEpiglottitis                                17209\nStable angina                               16995\nTuberculosis                                16245\nBoerhaave                                   15080\nPulmonary neoplasm                          14457\nAcute rhinosinusitis                        13578\nSLE                                         11867\nMyocarditis                                 11073\nLarygospasm                                 10998\nSpontaneous pneumothorax                    10162\nChagas                                       9252\nWhooping cough                               6070\nSpontaneous rib fracture                     5712\nCroup                                        2852\nEbola                                         718\nBronchiolitis                                 261\nName: count, dtype: int64"
     },
     "execution_count": 19,
     "metadata": {},
     "output_type": "execute_result"
    }
   ],
   "source": [
    "# count of patients with all diseases\n",
    "ds.PATHOLOGY.value_counts()"
   ],
   "metadata": {
    "collapsed": false,
    "ExecuteTime": {
     "end_time": "2024-05-04T18:54:07.003963Z",
     "start_time": "2024-05-04T18:54:07.000321Z"
    }
   },
   "id": "795246400c9486d",
   "execution_count": 19
  },
  {
   "cell_type": "code",
   "outputs": [
    {
     "name": "stderr",
     "output_type": "stream",
     "text": [
      "/var/folders/dg/ck0zj8w55sd57d00ccc4c1pc0000gn/T/ipykernel_31988/3220360419.py:2: DeprecationWarning: DataFrameGroupBy.apply operated on the grouping columns. This behavior is deprecated, and in a future version of pandas the grouping columns will be excluded from the operation. Either pass `include_groups=False` to exclude the groupings or explicitly select the grouping columns after groupby to silence this warning.\n",
      "  sample = ds.groupby('PATHOLOGY').apply(lambda x: x.sample(50)).reset_index(drop=True)\n"
     ]
    }
   ],
   "source": [
    "# sample a nex dataset from ds with 140 patient of 7 disease  and 20 each properly distributed for column SEX using stratified k fold\n",
    "sample = ds.groupby('PATHOLOGY').apply(lambda x: x.sample(50)).reset_index(drop=True)\n"
   ],
   "metadata": {
    "collapsed": false,
    "ExecuteTime": {
     "end_time": "2024-05-04T20:47:24.378198Z",
     "start_time": "2024-05-04T20:47:23.941926Z"
    }
   },
   "id": "9647d45cae9b9ef3",
   "execution_count": 65
  },
  {
   "cell_type": "code",
   "outputs": [],
   "source": [
    "diseases = ['Anemia', 'URTI', 'Pneumonia', 'HIV (initial infection)', 'Viral pharyngitis', 'Influenza', 'Tuberculosis']\n",
    "updated_ds = sample[sample.PATHOLOGY.isin(diseases)]"
   ],
   "metadata": {
    "collapsed": false,
    "ExecuteTime": {
     "end_time": "2024-05-04T20:47:44.974055Z",
     "start_time": "2024-05-04T20:47:44.945765Z"
    }
   },
   "id": "6bb546aaf83d04e2",
   "execution_count": 68
  },
  {
   "cell_type": "code",
   "outputs": [
    {
     "data": {
      "text/plain": "PATHOLOGY\nAcute COPD exacerbation / infection         50\nInguinal hernia                             50\nLocalized edema                             50\nMyasthenia gravis                           50\nMyocarditis                                 50\nPSVT                                        50\nPancreatic neoplasm                         50\nPanic attack                                50\nPericarditis                                50\nPneumonia                                   50\nPossible NSTEMI / STEMI                     50\nPulmonary embolism                          50\nPulmonary neoplasm                          50\nSLE                                         50\nSarcoidosis                                 50\nScombroid food poisoning                    50\nSpontaneous pneumothorax                    50\nSpontaneous rib fracture                    50\nStable angina                               50\nTuberculosis                                50\nURTI                                        50\nUnstable angina                             50\nViral pharyngitis                           50\nLarygospasm                                 50\nInfluenza                                   50\nAcute dystonic reactions                    50\nHIV (initial infection)                     50\nAcute laryngitis                            50\nAcute otitis media                          50\nAcute pulmonary edema                       50\nAcute rhinosinusitis                        50\nAllergic sinusitis                          50\nAnaphylaxis                                 50\nAnemia                                      50\nAtrial fibrillation                         50\nBoerhaave                                   50\nBronchiectasis                              50\nBronchiolitis                               50\nBronchitis                                  50\nBronchospasm / acute asthma exacerbation    50\nChagas                                      50\nChronic rhinosinusitis                      50\nCluster headache                            50\nCroup                                       50\nEbola                                       50\nEpiglottitis                                50\nGERD                                        50\nGuillain-Barré syndrome                     50\nWhooping cough                              50\nName: count, dtype: int64"
     },
     "execution_count": 69,
     "metadata": {},
     "output_type": "execute_result"
    }
   ],
   "source": [
    "sample.PATHOLOGY.value_counts()"
   ],
   "metadata": {
    "collapsed": false,
    "ExecuteTime": {
     "end_time": "2024-05-04T20:47:51.448322Z",
     "start_time": "2024-05-04T20:47:51.441197Z"
    }
   },
   "id": "331194f79442339c",
   "execution_count": 69
  },
  {
   "cell_type": "code",
   "outputs": [
    {
     "data": {
      "text/plain": "     AGE                             DIFFERENTIAL_DIAGNOSIS SEX  \\\n160   36  [['Anemia', 0.44587155073498674], ['HIV (initi...   M   \n161   30  [['Anemia', 0.6496640351985898], ['Cluster hea...   M   \n162   45  [['Anemia', 0.38161737656069056], ['HIV (initi...   M   \n163    0  [['Anemia', 0.1402393853581791], ['Atrial fibr...   F   \n164    7  [['Anemia', 0.776039045795465], ['Scombroid fo...   F   \n..   ...                                                ...  ..   \n955   56  [['Viral pharyngitis', 0.16777641307094804], [...   M   \n956   20  [['Viral pharyngitis', 0.16597158147844399], [...   F   \n957   77  [['Viral pharyngitis', 0.41491517949822926], [...   M   \n958   19  [['Viral pharyngitis', 0.1981205785871585], ['...   M   \n959   60  [['Viral pharyngitis', 0.17703821917912302], [...   F   \n\n             PATHOLOGY                                          EVIDENCES  \\\n160             Anemia  ['E_7', 'E_53', 'E_54_@_V_161', 'E_54_@_V_180'...   \n161             Anemia  ['E_7', 'E_53', 'E_54_@_V_180', 'E_54_@_V_182'...   \n162             Anemia  ['E_7', 'E_24', 'E_26', 'E_53', 'E_54_@_V_161'...   \n163             Anemia  ['E_24', 'E_26', 'E_53', 'E_54_@_V_180', 'E_55...   \n164             Anemia  ['E_24', 'E_26', 'E_53', 'E_54_@_V_182', 'E_54...   \n..                 ...                                                ...   \n955  Viral pharyngitis  ['E_41', 'E_45', 'E_48', 'E_49', 'E_53', 'E_54...   \n956  Viral pharyngitis  ['E_45', 'E_48', 'E_49', 'E_53', 'E_54_@_V_161...   \n957  Viral pharyngitis  ['E_41', 'E_45', 'E_48', 'E_49', 'E_53', 'E_54...   \n958  Viral pharyngitis  ['E_41', 'E_45', 'E_49', 'E_53', 'E_54_@_V_161...   \n959  Viral pharyngitis  ['E_41', 'E_48', 'E_53', 'E_54_@_V_161', 'E_54...   \n\n    INITIAL_EVIDENCE  \n160             E_76  \n161             E_53  \n162            E_154  \n163             E_89  \n164             E_82  \n..               ...  \n955            E_201  \n956             E_45  \n957             E_53  \n958            E_181  \n959             E_91  \n\n[140 rows x 6 columns]",
      "text/html": "<div>\n<style scoped>\n    .dataframe tbody tr th:only-of-type {\n        vertical-align: middle;\n    }\n\n    .dataframe tbody tr th {\n        vertical-align: top;\n    }\n\n    .dataframe thead th {\n        text-align: right;\n    }\n</style>\n<table border=\"1\" class=\"dataframe\">\n  <thead>\n    <tr style=\"text-align: right;\">\n      <th></th>\n      <th>AGE</th>\n      <th>DIFFERENTIAL_DIAGNOSIS</th>\n      <th>SEX</th>\n      <th>PATHOLOGY</th>\n      <th>EVIDENCES</th>\n      <th>INITIAL_EVIDENCE</th>\n    </tr>\n  </thead>\n  <tbody>\n    <tr>\n      <th>160</th>\n      <td>36</td>\n      <td>[['Anemia', 0.44587155073498674], ['HIV (initi...</td>\n      <td>M</td>\n      <td>Anemia</td>\n      <td>['E_7', 'E_53', 'E_54_@_V_161', 'E_54_@_V_180'...</td>\n      <td>E_76</td>\n    </tr>\n    <tr>\n      <th>161</th>\n      <td>30</td>\n      <td>[['Anemia', 0.6496640351985898], ['Cluster hea...</td>\n      <td>M</td>\n      <td>Anemia</td>\n      <td>['E_7', 'E_53', 'E_54_@_V_180', 'E_54_@_V_182'...</td>\n      <td>E_53</td>\n    </tr>\n    <tr>\n      <th>162</th>\n      <td>45</td>\n      <td>[['Anemia', 0.38161737656069056], ['HIV (initi...</td>\n      <td>M</td>\n      <td>Anemia</td>\n      <td>['E_7', 'E_24', 'E_26', 'E_53', 'E_54_@_V_161'...</td>\n      <td>E_154</td>\n    </tr>\n    <tr>\n      <th>163</th>\n      <td>0</td>\n      <td>[['Anemia', 0.1402393853581791], ['Atrial fibr...</td>\n      <td>F</td>\n      <td>Anemia</td>\n      <td>['E_24', 'E_26', 'E_53', 'E_54_@_V_180', 'E_55...</td>\n      <td>E_89</td>\n    </tr>\n    <tr>\n      <th>164</th>\n      <td>7</td>\n      <td>[['Anemia', 0.776039045795465], ['Scombroid fo...</td>\n      <td>F</td>\n      <td>Anemia</td>\n      <td>['E_24', 'E_26', 'E_53', 'E_54_@_V_182', 'E_54...</td>\n      <td>E_82</td>\n    </tr>\n    <tr>\n      <th>...</th>\n      <td>...</td>\n      <td>...</td>\n      <td>...</td>\n      <td>...</td>\n      <td>...</td>\n      <td>...</td>\n    </tr>\n    <tr>\n      <th>955</th>\n      <td>56</td>\n      <td>[['Viral pharyngitis', 0.16777641307094804], [...</td>\n      <td>M</td>\n      <td>Viral pharyngitis</td>\n      <td>['E_41', 'E_45', 'E_48', 'E_49', 'E_53', 'E_54...</td>\n      <td>E_201</td>\n    </tr>\n    <tr>\n      <th>956</th>\n      <td>20</td>\n      <td>[['Viral pharyngitis', 0.16597158147844399], [...</td>\n      <td>F</td>\n      <td>Viral pharyngitis</td>\n      <td>['E_45', 'E_48', 'E_49', 'E_53', 'E_54_@_V_161...</td>\n      <td>E_45</td>\n    </tr>\n    <tr>\n      <th>957</th>\n      <td>77</td>\n      <td>[['Viral pharyngitis', 0.41491517949822926], [...</td>\n      <td>M</td>\n      <td>Viral pharyngitis</td>\n      <td>['E_41', 'E_45', 'E_48', 'E_49', 'E_53', 'E_54...</td>\n      <td>E_53</td>\n    </tr>\n    <tr>\n      <th>958</th>\n      <td>19</td>\n      <td>[['Viral pharyngitis', 0.1981205785871585], ['...</td>\n      <td>M</td>\n      <td>Viral pharyngitis</td>\n      <td>['E_41', 'E_45', 'E_49', 'E_53', 'E_54_@_V_161...</td>\n      <td>E_181</td>\n    </tr>\n    <tr>\n      <th>959</th>\n      <td>60</td>\n      <td>[['Viral pharyngitis', 0.17703821917912302], [...</td>\n      <td>F</td>\n      <td>Viral pharyngitis</td>\n      <td>['E_41', 'E_48', 'E_53', 'E_54_@_V_161', 'E_54...</td>\n      <td>E_91</td>\n    </tr>\n  </tbody>\n</table>\n<p>140 rows × 6 columns</p>\n</div>"
     },
     "execution_count": 32,
     "metadata": {},
     "output_type": "execute_result"
    }
   ],
   "source": [
    "# iterate over the updated_ds and generate a report for each patient\n",
    "for index, row in updated_ds.iterrows():\n",
    "    evidences = row['EVIDENCES']"
   ],
   "metadata": {
    "collapsed": false,
    "ExecuteTime": {
     "end_time": "2024-05-04T19:07:23.091242Z",
     "start_time": "2024-05-04T19:07:23.085530Z"
    }
   },
   "id": "892ab2d9a958ab15",
   "execution_count": 32
  },
  {
   "cell_type": "markdown",
   "source": [
    "### Generate condition symptom and antecedents mapping"
   ],
   "metadata": {
    "collapsed": false
   },
   "id": "9a38bc8b2ab08c21"
  },
  {
   "cell_type": "code",
   "outputs": [],
   "source": [
    "import json\n",
    "conditions = json.load(open('release_conditions.json'))\n",
    "evidences = json.load(open('release_evidences.json'))"
   ],
   "metadata": {
    "collapsed": false,
    "ExecuteTime": {
     "end_time": "2024-05-04T19:57:24.398325Z",
     "start_time": "2024-05-04T19:57:24.393589Z"
    }
   },
   "id": "3612b8072aab8646",
   "execution_count": 34
  },
  {
   "cell_type": "code",
   "outputs": [],
   "source": [
    "path_condition_mapping = {}\n",
    "unique_symptoms = []\n",
    "unique_antecedents = []\n",
    "for condition_key in conditions:\n",
    "  name = conditions[condition_key]['condition_name']\n",
    "  if name not in diseases:\n",
    "    continue\n",
    "  symptoms = list(conditions[condition_key]['symptoms'].keys())\n",
    "  antecedents = list(conditions[condition_key]['antecedents'].keys())\n",
    "  updated_symptoms = []\n",
    "  updated_antecedents = []\n",
    "  for symptom in symptoms:\n",
    "    symptom_q = evidences[symptom]['question_en']\n",
    "    updated_symptoms.append(symptom_q)\n",
    "    if symptom_q not in unique_symptoms:\n",
    "      unique_symptoms.append({\n",
    "        'question': symptom_q,\n",
    "        'name': evidences[symptom]['name']\n",
    "      })\n",
    "      \n",
    "  for antecedent in antecedents:\n",
    "    antecedent_q = evidences[antecedent]['question_en']\n",
    "    updated_antecedents.append(antecedent_q)\n",
    "    if antecedent_q not in unique_antecedents:\n",
    "      unique_antecedents.append({\n",
    "        'question': antecedent_q,\n",
    "        'name': evidences[antecedent]['name']\n",
    "      })\n",
    "      \n",
    "    path_condition_mapping[name] = {\n",
    "      'name': name,\n",
    "      'symptoms': updated_symptoms,\n",
    "      'antecedents': updated_antecedents\n",
    "    }"
   ],
   "metadata": {
    "collapsed": false,
    "ExecuteTime": {
     "end_time": "2024-05-04T20:07:26.546535Z",
     "start_time": "2024-05-04T20:07:26.542508Z"
    }
   },
   "id": "774f1fd9123063e5",
   "execution_count": 46
  },
  {
   "cell_type": "code",
   "outputs": [
    {
     "data": {
      "text/plain": "121"
     },
     "execution_count": 55,
     "metadata": {},
     "output_type": "execute_result"
    }
   ],
   "source": [
    "len(unique_symptoms)"
   ],
   "metadata": {
    "collapsed": false,
    "ExecuteTime": {
     "end_time": "2024-05-04T20:24:35.426033Z",
     "start_time": "2024-05-04T20:24:35.418568Z"
    }
   },
   "id": "9c950b3e3ab0aed4",
   "execution_count": 55
  },
  {
   "cell_type": "code",
   "outputs": [],
   "source": [
    "def append_row(df, row):\n",
    "    return pd.concat([\n",
    "                df, \n",
    "                pd.DataFrame([row], columns=row.index)]\n",
    "           ).reset_index(drop=True)"
   ],
   "metadata": {
    "collapsed": false,
    "ExecuteTime": {
     "end_time": "2024-05-04T20:20:40.819305Z",
     "start_time": "2024-05-04T20:20:40.808018Z"
    }
   },
   "id": "d9bf0d0e3154f708",
   "execution_count": 52
  },
  {
   "cell_type": "code",
   "outputs": [
    {
     "name": "stdout",
     "output_type": "stream",
     "text": [
      "Generated response for symptom Fever\n",
      "Generated response for symptom Fatigue\n",
      "Generated response for symptom Muscle pain\n",
      "Generated response for symptom Weight loss\n",
      "Generated response for symptom Pain\n",
      "Generated response for symptom Pain\n",
      "Generated response for symptom Radiating pain\n",
      "Generated response for symptom Pain\n",
      "Generated response for symptom Pain onset\n",
      "Generated response for symptom Pain intensity\n",
      "Generated response for symptom Pain location\n",
      "Generated response for symptom Sore throat\n",
      "Generated response for symptom Swollen lymph nodes\n",
      "Generated response for symptom Diarrhea\n",
      "Generated response for symptom Location of affected region\n",
      "Generated response for symptom Skin lesions\n",
      "Generated response for symptom Rash\n",
      "Generated response for symptom Rash pain intensity\n",
      "Generated response for symptom Rash swelling\n",
      "Generated response for symptom Itching\n",
      "Generated response for symptom Lesion size\n",
      "Generated response for symptom Skin peeling\n",
      "Generated response for symptom Nausea or vomiting\n",
      "Generated response for symptom Night sweats\n",
      "Generated response for symptom Dizziness or lightheadedness\n",
      "Generated response for symptom Fatigue\n",
      "Generated response for symptom Fatigue\n",
      "Generated response for symptom Shortness of breath\n",
      "Generated response for symptom Pallor\n",
      "Generated response for symptom Lightheadedness\n",
      "Generated response for symptom Pain\n",
      "Generated response for symptom Pain\n",
      "Generated response for symptom Radiating pain\n",
      "Generated response for symptom Pain\n",
      "Generated response for symptom Pain onset\n",
      "Generated response for symptom Pain intensity\n",
      "Generated response for symptom Pain location\n",
      "Generated response for symptom Blood in stool\n",
      "Generated response for symptom Black stools\n",
      "Generated response for symptom Heavy menstrual bleeding\n",
      "Generated response for symptom Pain\n",
      "Generated response for symptom Pain\n",
      "Generated response for symptom Radiating pain\n",
      "Generated response for symptom Pain\n",
      "Generated response for symptom Pain onset\n",
      "Generated response for symptom Pain intensity\n",
      "Generated response for symptom Pain location\n",
      "Generated response for symptom Nasal congestion\n",
      "Generated response for symptom Fever\n",
      "Generated response for symptom Cough\n",
      "Generated response for symptom Coughing up blood\n",
      "Generated response for symptom Cough\n",
      "Generated response for symptom Coughing up blood\n",
      "Generated response for symptom Shortness of breath\n",
      "Generated response for symptom Fever\n",
      "Generated response for symptom Weight loss\n",
      "Generated response for symptom Pain\n",
      "Generated response for symptom Pain\n",
      "Generated response for symptom Radiating pain\n",
      "Generated response for symptom Pain\n",
      "Generated response for symptom Rate of onset\n",
      "Generated response for symptom Pain intensity\n",
      "Generated response for symptom Pain location\n",
      "Generated response for symptom Cough\n",
      "Generated response for symptom Night sweats\n",
      "Generated response for symptom Nasal congestion\n",
      "Generated response for symptom Sore throat\n",
      "Generated response for symptom Muscle pain\n",
      "Generated response for symptom Fever\n",
      "Generated response for symptom Productive cough\n",
      "Generated response for symptom Location of affected region\n",
      "Generated response for symptom Skin problems\n",
      "Generated response for symptom Rash\n",
      "Generated response for symptom Rash pain intensity\n",
      "Generated response for symptom Swelling\n",
      "Generated response for symptom Itching\n",
      "Generated response for symptom Lesion size\n",
      "Generated response for symptom Skin peeling\n",
      "Generated response for symptom Loss of appetite\n",
      "Generated response for symptom Chills or shivers\n",
      "Generated response for symptom Fever\n",
      "Generated response for symptom Night sweats\n",
      "Generated response for symptom Cough\n",
      "Generated response for symptom Fatigue\n",
      "Generated response for symptom Nasal congestion\n",
      "Generated response for symptom Sore throat\n",
      "Generated response for symptom Muscle pain\n",
      "Generated response for symptom Pain\n",
      "Generated response for symptom Pain\n",
      "Generated response for symptom Radiating pain\n",
      "Generated response for symptom Pain\n",
      "Generated response for symptom Rate of onset\n",
      "Generated response for symptom Pain intensity\n",
      "Generated response for symptom Pain location\n",
      "Generated response for symptom Pleuritic pain\n",
      "Generated response for symptom Pain\n",
      "Generated response for symptom Pain\n",
      "Generated response for symptom Radiating pain\n",
      "Generated response for symptom Pain\n",
      "Generated response for symptom Pain onset\n",
      "Generated response for symptom Pain intensity\n",
      "Generated response for symptom Pain location\n",
      "Generated response for symptom Coughing up blood\n",
      "Generated response for symptom Location of affected region\n",
      "Generated response for symptom Skin problems\n",
      "Generated response for symptom Rash\n",
      "Generated response for symptom Rash pain intensity\n",
      "Generated response for symptom Swelling\n",
      "Generated response for symptom Itching\n",
      "Generated response for symptom Lesion size\n",
      "Generated response for symptom Skin peeling\n",
      "Generated response for symptom Fatigue and malaise\n",
      "Generated response for symptom Loss of appetite\n",
      "Generated response for symptom Nocturnal symptoms\n",
      "Generated response for symptom Fever\n",
      "Generated response for symptom Colored or abundant sputum\n",
      "Generated response for symptom Cough\n",
      "Generated response for symptom Shortness of breath\n",
      "Generated response for symptom Chills or shivers\n",
      "Generated response for symptom Muscle pain\n",
      "Failed to generate response for symptom {'question': 'Do you have nasal congestion or a clear runny nose?', 'name': 'E_181'}\n",
      "429 Resource has been exhausted (e.g. check quota).\n"
     ]
    }
   ],
   "source": [
    "# Empty dataframe\n",
    "symptom_ds = pd.DataFrame(columns=['name', 'symptom'])\n",
    "failed_symptoms = []\n",
    "for symptom in unique_symptoms:\n",
    "  try:\n",
    "    question = symptom['question']\n",
    "    prompt = f\"\"\"You are given a doctor's question to patient  now your job to identify what symptom doctor trying to establish from the question, return me the symptom name in 2-4 words, example,\n",
    "      Question: Do you have a cough?\n",
    "      Cough\n",
    "      Question: Do you have a fever?\n",
    "      Fever\n",
    "      Question: Do you have sore throat?\n",
    "      Sore throat\n",
    "      Question:{question}\"\"\"\n",
    "    response = model.generate_content(prompt)\n",
    "    row = pd.Series({\n",
    "      'name': symptom['name'],\n",
    "      'symptom': response.text\n",
    "    })\n",
    "    symptom_ds = append_row(symptom_ds, row)\n",
    "    print(\"Generated response for symptom\", row['symptom'])\n",
    "  except Exception as e:\n",
    "    print(\"Failed to generate response for symptom\", symptom)\n",
    "    print(e)\n",
    "    failed_symptoms.append(symptom)\n",
    "    continue\n",
    "  "
   ],
   "metadata": {
    "collapsed": false,
    "ExecuteTime": {
     "end_time": "2024-05-04T20:23:50.919409Z",
     "start_time": "2024-05-04T20:21:48.149505Z"
    }
   },
   "id": "c894b7c5e6ed5862",
   "execution_count": 53
  },
  {
   "cell_type": "code",
   "outputs": [],
   "source": [
    "temp_series = pd.Series({\n",
    "  'name': 'E_181',\n",
    "  'symptom': 'Runny/Congested nose'\n",
    "})\n",
    "symptom_ds = append_row(symptom_ds, temp_series)"
   ],
   "metadata": {
    "collapsed": false,
    "ExecuteTime": {
     "end_time": "2024-05-04T20:26:28.150251Z",
     "start_time": "2024-05-04T20:26:28.142517Z"
    }
   },
   "id": "e82094b8bb65ab57",
   "execution_count": 56
  },
  {
   "cell_type": "code",
   "outputs": [],
   "source": [
    "symptom_ds.to_csv('symptoms.csv', index=False)"
   ],
   "metadata": {
    "collapsed": false,
    "ExecuteTime": {
     "end_time": "2024-05-04T20:26:45.293485Z",
     "start_time": "2024-05-04T20:26:45.281849Z"
    }
   },
   "id": "5beb6097ea18a5c3",
   "execution_count": 58
  },
  {
   "cell_type": "code",
   "outputs": [
    {
     "name": "stdout",
     "output_type": "stream",
     "text": [
      "Generated response for antecedent Unprotected sex\n",
      "Generated response for antecedent Intravenous drug use\n",
      "Generated response for antecedent Sexually transmitted infection\n",
      "Generated response for antecedent HIV status\n",
      "Generated response for antecedent Travel\n",
      "Generated response for antecedent Diet\n",
      "Generated response for antecedent Anemia\n",
      "Generated response for antecedent Anemia\n",
      "Generated response for antecedent Pregnancy\n",
      "Generated response for antecedent Chronic kidney failure\n",
      "Generated response for antecedent Underweight\n",
      "Generated response for antecedent Oral anticoagulants\n",
      "Generated response for antecedent Travel history\n",
      "Generated response for antecedent Daycare attendance\n",
      "Failed to generate response for antecedent {'question': 'Do you live with 4 or more people?', 'name': 'E_48'}\n",
      "429 Quota exceeded for quota metric 'Generate Content API requests per minute' and limit 'GenerateContent request limit per minute for a region' of service 'generativelanguage.googleapis.com' for consumer 'project_number:930573229416'. [reason: \"RATE_LIMIT_EXCEEDED\"\n",
      "domain: \"googleapis.com\"\n",
      "metadata {\n",
      "  key: \"service\"\n",
      "  value: \"generativelanguage.googleapis.com\"\n",
      "}\n",
      "metadata {\n",
      "  key: \"quota_metric\"\n",
      "  value: \"generativelanguage.googleapis.com/generate_content_requests\"\n",
      "}\n",
      "metadata {\n",
      "  key: \"quota_location\"\n",
      "  value: \"us-west4\"\n",
      "}\n",
      "metadata {\n",
      "  key: \"quota_limit\"\n",
      "  value: \"GenerateContentRequestsPerMinutePerProjectPerRegion\"\n",
      "}\n",
      "metadata {\n",
      "  key: \"quota_limit_value\"\n",
      "  value: \"60\"\n",
      "}\n",
      "metadata {\n",
      "  key: \"consumer\"\n",
      "  value: \"projects/930573229416\"\n",
      "}\n",
      ", links {\n",
      "  description: \"Request a higher quota limit.\"\n",
      "  url: \"https://cloud.google.com/docs/quota#requesting_higher_quota\"\n",
      "}\n",
      "]\n",
      "Generated response for antecedent Smoking\n",
      "Generated response for antecedent Contact with infected person\n",
      "Generated response for antecedent Immunosuppression\n",
      "Generated response for antecedent Travel history\n",
      "Generated response for antecedent Alcohol consumption\n",
      "Generated response for antecedent Intravenous drug use\n",
      "Generated response for antecedent HIV infection\n",
      "Generated response for antecedent Corticosteroids\n",
      "Generated response for antecedent Diabetes\n",
      "Generated response for antecedent Underweight\n",
      "Generated response for antecedent Travel history\n",
      "Failed to generate response for antecedent {'question': 'Do you live with 4 or more people?', 'name': 'E_48'}\n",
      "429 Quota exceeded for quota metric 'Generate Content API requests per minute' and limit 'GenerateContent request limit per minute for a region' of service 'generativelanguage.googleapis.com' for consumer 'project_number:930573229416'. [reason: \"RATE_LIMIT_EXCEEDED\"\n",
      "domain: \"googleapis.com\"\n",
      "metadata {\n",
      "  key: \"service\"\n",
      "  value: \"generativelanguage.googleapis.com\"\n",
      "}\n",
      "metadata {\n",
      "  key: \"quota_metric\"\n",
      "  value: \"generativelanguage.googleapis.com/generate_content_requests\"\n",
      "}\n",
      "metadata {\n",
      "  key: \"quota_location\"\n",
      "  value: \"us-west4\"\n",
      "}\n",
      "metadata {\n",
      "  key: \"quota_limit\"\n",
      "  value: \"GenerateContentRequestsPerMinutePerProjectPerRegion\"\n",
      "}\n",
      "metadata {\n",
      "  key: \"quota_limit_value\"\n",
      "  value: \"60\"\n",
      "}\n",
      "metadata {\n",
      "  key: \"consumer\"\n",
      "  value: \"projects/930573229416\"\n",
      "}\n",
      ", links {\n",
      "  description: \"Request a higher quota limit.\"\n",
      "  url: \"https://cloud.google.com/docs/quota#requesting_higher_quota\"\n",
      "}\n",
      "]\n",
      "Generated response for antecedent Secondhand cigarette smoke\n",
      "Generated response for antecedent Daycare attendance\n",
      "Generated response for antecedent Contact with infected person\n",
      "Generated response for antecedent Smoking\n",
      "Generated response for antecedent Travel history\n",
      "Generated response for antecedent Smoking\n",
      "Generated response for antecedent Immunosuppression\n",
      "Generated response for antecedent Travel history\n",
      "Generated response for antecedent Vaccinations\n",
      "Generated response for antecedent Surgery\n",
      "Generated response for antecedent COPD\n",
      "Generated response for antecedent Asthma\n",
      "Generated response for antecedent Heart failure\n",
      "Generated response for antecedent Stroke\n",
      "Generated response for antecedent Parkinson's disease\n",
      "Generated response for antecedent Smoking\n",
      "Generated response for antecedent Alcohol consumption\n",
      "Generated response for antecedent Underweight\n",
      "Generated response for antecedent Pneumonia\n",
      "Generated response for antecedent Travel history\n"
     ]
    }
   ],
   "source": [
    "antecedent_ds = pd.DataFrame(columns=['name', 'antecedent'])\n",
    "failed_antecedents = []\n",
    "for antecedent in unique_antecedents:\n",
    "  try:\n",
    "    question = antecedent['question']\n",
    "    prompt = f\"\"\"You are given a doctor's question to patient  now your job to identify what antecedent doctor trying to establish from the question, return me the antecedent name in 2-4 words, example,\n",
    "      Question: Do you smoke cigarettes?\n",
    "      Smoking\n",
    "      Question: Do you have high blood pressure or do you take medications to treat high blood pressure?\n",
    "      High blood pressure\n",
    "        Question: Do you live with 4 or more people?\n",
    "        Crowded living conditions\n",
    "      Question:{question}\"\"\"\n",
    "    response = model.generate_content(prompt)\n",
    "    row = pd.Series({\n",
    "      'name': antecedent['name'],\n",
    "      'antecedent': response.text\n",
    "    })\n",
    "    antecedent_ds = append_row(antecedent_ds, row)\n",
    "    print(\"Generated response for antecedent\", row['antecedent'])\n",
    "  except Exception as e:\n",
    "    print(\"Failed to generate response for antecedent\", antecedent)\n",
    "    print(e)\n",
    "    failed_antecedents.append(antecedent)\n",
    "    continue"
   ],
   "metadata": {
    "collapsed": false,
    "ExecuteTime": {
     "end_time": "2024-05-04T20:36:57.701782Z",
     "start_time": "2024-05-04T20:35:47.342532Z"
    }
   },
   "id": "b90aa350818f8f81",
   "execution_count": 60
  },
  {
   "cell_type": "code",
   "outputs": [],
   "source": [
    "antecedent_ds.to_csv('antecedents.csv', index=False)"
   ],
   "metadata": {
    "collapsed": false,
    "ExecuteTime": {
     "end_time": "2024-05-04T20:37:11.747642Z",
     "start_time": "2024-05-04T20:37:11.730285Z"
    }
   },
   "id": "19f5b59badd67aed",
   "execution_count": 61
  },
  {
   "cell_type": "markdown",
   "source": [
    "### Explore the patients"
   ],
   "metadata": {
    "collapsed": false
   },
   "id": "339ec374b823725a"
  },
  {
   "cell_type": "code",
   "outputs": [
    {
     "data": {
      "text/plain": "      AGE                             DIFFERENTIAL_DIAGNOSIS SEX  \\\n400    31  [['Anemia', 0.16248459669351575], ['Atrial fib...   F   \n401    44  [['Anemia', 0.5243554749117972], ['Cluster hea...   F   \n402    26  [['Anemia', 0.424119115524829], ['Cluster head...   F   \n403    63  [['Anemia', 0.5792667822640574], ['Cluster hea...   F   \n404   103  [['Anemia', 0.17163623347391554], ['Panic atta...   F   \n...   ...                                                ...  ..   \n2395   61  [['Possible NSTEMI / STEMI', 0.333029896487044...   M   \n2396   28  [['Viral pharyngitis', 0.22702125813983617], [...   F   \n2397   52  [['Bronchitis', 0.337784629934469], ['Viral ph...   F   \n2398   62  [['Viral pharyngitis', 0.16777641307094804], [...   M   \n2399   15  [['Viral pharyngitis', 0.39711491148856237], [...   M   \n\n              PATHOLOGY                                          EVIDENCES  \\\n400              Anemia  ['E_7', 'E_24', 'E_26', 'E_53', 'E_54_@_V_182'...   \n401              Anemia  ['E_24', 'E_26', 'E_53', 'E_54_@_V_180', 'E_54...   \n402              Anemia  ['E_7', 'E_24', 'E_53', 'E_54_@_V_182', 'E_55_...   \n403              Anemia  ['E_7', 'E_24', 'E_26', 'E_53', 'E_54_@_V_180'...   \n404              Anemia  ['E_7', 'E_24', 'E_53', 'E_54_@_V_161', 'E_54_...   \n...                 ...                                                ...   \n2395  Viral pharyngitis  ['E_41', 'E_45', 'E_48', 'E_49', 'E_53', 'E_54...   \n2396  Viral pharyngitis  ['E_41', 'E_48', 'E_53', 'E_54_@_V_181', 'E_55...   \n2397  Viral pharyngitis  ['E_41', 'E_48', 'E_49', 'E_53', 'E_54_@_V_161...   \n2398  Viral pharyngitis  ['E_45', 'E_49', 'E_53', 'E_54_@_V_181', 'E_55...   \n2399  Viral pharyngitis  ['E_41', 'E_48', 'E_49', 'E_53', 'E_54_@_V_161...   \n\n     INITIAL_EVIDENCE  \n400             E_145  \n401             E_145  \n402              E_88  \n403              E_88  \n404              E_53  \n...               ...  \n2395             E_53  \n2396            E_201  \n2397            E_201  \n2398            E_181  \n2399            E_181  \n\n[350 rows x 6 columns]",
      "text/html": "<div>\n<style scoped>\n    .dataframe tbody tr th:only-of-type {\n        vertical-align: middle;\n    }\n\n    .dataframe tbody tr th {\n        vertical-align: top;\n    }\n\n    .dataframe thead th {\n        text-align: right;\n    }\n</style>\n<table border=\"1\" class=\"dataframe\">\n  <thead>\n    <tr style=\"text-align: right;\">\n      <th></th>\n      <th>AGE</th>\n      <th>DIFFERENTIAL_DIAGNOSIS</th>\n      <th>SEX</th>\n      <th>PATHOLOGY</th>\n      <th>EVIDENCES</th>\n      <th>INITIAL_EVIDENCE</th>\n    </tr>\n  </thead>\n  <tbody>\n    <tr>\n      <th>400</th>\n      <td>31</td>\n      <td>[['Anemia', 0.16248459669351575], ['Atrial fib...</td>\n      <td>F</td>\n      <td>Anemia</td>\n      <td>['E_7', 'E_24', 'E_26', 'E_53', 'E_54_@_V_182'...</td>\n      <td>E_145</td>\n    </tr>\n    <tr>\n      <th>401</th>\n      <td>44</td>\n      <td>[['Anemia', 0.5243554749117972], ['Cluster hea...</td>\n      <td>F</td>\n      <td>Anemia</td>\n      <td>['E_24', 'E_26', 'E_53', 'E_54_@_V_180', 'E_54...</td>\n      <td>E_145</td>\n    </tr>\n    <tr>\n      <th>402</th>\n      <td>26</td>\n      <td>[['Anemia', 0.424119115524829], ['Cluster head...</td>\n      <td>F</td>\n      <td>Anemia</td>\n      <td>['E_7', 'E_24', 'E_53', 'E_54_@_V_182', 'E_55_...</td>\n      <td>E_88</td>\n    </tr>\n    <tr>\n      <th>403</th>\n      <td>63</td>\n      <td>[['Anemia', 0.5792667822640574], ['Cluster hea...</td>\n      <td>F</td>\n      <td>Anemia</td>\n      <td>['E_7', 'E_24', 'E_26', 'E_53', 'E_54_@_V_180'...</td>\n      <td>E_88</td>\n    </tr>\n    <tr>\n      <th>404</th>\n      <td>103</td>\n      <td>[['Anemia', 0.17163623347391554], ['Panic atta...</td>\n      <td>F</td>\n      <td>Anemia</td>\n      <td>['E_7', 'E_24', 'E_53', 'E_54_@_V_161', 'E_54_...</td>\n      <td>E_53</td>\n    </tr>\n    <tr>\n      <th>...</th>\n      <td>...</td>\n      <td>...</td>\n      <td>...</td>\n      <td>...</td>\n      <td>...</td>\n      <td>...</td>\n    </tr>\n    <tr>\n      <th>2395</th>\n      <td>61</td>\n      <td>[['Possible NSTEMI / STEMI', 0.333029896487044...</td>\n      <td>M</td>\n      <td>Viral pharyngitis</td>\n      <td>['E_41', 'E_45', 'E_48', 'E_49', 'E_53', 'E_54...</td>\n      <td>E_53</td>\n    </tr>\n    <tr>\n      <th>2396</th>\n      <td>28</td>\n      <td>[['Viral pharyngitis', 0.22702125813983617], [...</td>\n      <td>F</td>\n      <td>Viral pharyngitis</td>\n      <td>['E_41', 'E_48', 'E_53', 'E_54_@_V_181', 'E_55...</td>\n      <td>E_201</td>\n    </tr>\n    <tr>\n      <th>2397</th>\n      <td>52</td>\n      <td>[['Bronchitis', 0.337784629934469], ['Viral ph...</td>\n      <td>F</td>\n      <td>Viral pharyngitis</td>\n      <td>['E_41', 'E_48', 'E_49', 'E_53', 'E_54_@_V_161...</td>\n      <td>E_201</td>\n    </tr>\n    <tr>\n      <th>2398</th>\n      <td>62</td>\n      <td>[['Viral pharyngitis', 0.16777641307094804], [...</td>\n      <td>M</td>\n      <td>Viral pharyngitis</td>\n      <td>['E_45', 'E_49', 'E_53', 'E_54_@_V_181', 'E_55...</td>\n      <td>E_181</td>\n    </tr>\n    <tr>\n      <th>2399</th>\n      <td>15</td>\n      <td>[['Viral pharyngitis', 0.39711491148856237], [...</td>\n      <td>M</td>\n      <td>Viral pharyngitis</td>\n      <td>['E_41', 'E_48', 'E_49', 'E_53', 'E_54_@_V_161...</td>\n      <td>E_181</td>\n    </tr>\n  </tbody>\n</table>\n<p>350 rows × 6 columns</p>\n</div>"
     },
     "execution_count": 72,
     "metadata": {},
     "output_type": "execute_result"
    }
   ],
   "source": [
    "updated_ds"
   ],
   "metadata": {
    "collapsed": false,
    "ExecuteTime": {
     "end_time": "2024-05-04T20:49:08.795986Z",
     "start_time": "2024-05-04T20:49:08.770610Z"
    }
   },
   "id": "3e5ae436e73ab0ef",
   "execution_count": 72
  },
  {
   "cell_type": "code",
   "outputs": [],
   "source": [
    "symp_ds = pd.read_csv('symptoms.csv')\n",
    "ant_ds = pd.read_csv('antecedents.csv')"
   ],
   "metadata": {
    "collapsed": false,
    "ExecuteTime": {
     "end_time": "2024-05-04T21:45:39.834946Z",
     "start_time": "2024-05-04T21:45:39.821291Z"
    }
   },
   "id": "909cc3a615d730ae",
   "execution_count": 123
  },
  {
   "cell_type": "code",
   "outputs": [
    {
     "data": {
      "text/plain": "      name                  symptom\n0     E_91                    Fever\n1     E_88                  Fatigue\n2    E_144              Muscle pain\n3    E_162              Weight loss\n4     E_55                     Pain\n..     ...                      ...\n116  E_201                    Cough\n117   E_66      Shortness of breath\n118   E_94        Chills or shivers\n119  E_144              Muscle pain\n120  E_181  Runny or Congested nose\n\n[121 rows x 2 columns]",
      "text/html": "<div>\n<style scoped>\n    .dataframe tbody tr th:only-of-type {\n        vertical-align: middle;\n    }\n\n    .dataframe tbody tr th {\n        vertical-align: top;\n    }\n\n    .dataframe thead th {\n        text-align: right;\n    }\n</style>\n<table border=\"1\" class=\"dataframe\">\n  <thead>\n    <tr style=\"text-align: right;\">\n      <th></th>\n      <th>name</th>\n      <th>symptom</th>\n    </tr>\n  </thead>\n  <tbody>\n    <tr>\n      <th>0</th>\n      <td>E_91</td>\n      <td>Fever</td>\n    </tr>\n    <tr>\n      <th>1</th>\n      <td>E_88</td>\n      <td>Fatigue</td>\n    </tr>\n    <tr>\n      <th>2</th>\n      <td>E_144</td>\n      <td>Muscle pain</td>\n    </tr>\n    <tr>\n      <th>3</th>\n      <td>E_162</td>\n      <td>Weight loss</td>\n    </tr>\n    <tr>\n      <th>4</th>\n      <td>E_55</td>\n      <td>Pain</td>\n    </tr>\n    <tr>\n      <th>...</th>\n      <td>...</td>\n      <td>...</td>\n    </tr>\n    <tr>\n      <th>116</th>\n      <td>E_201</td>\n      <td>Cough</td>\n    </tr>\n    <tr>\n      <th>117</th>\n      <td>E_66</td>\n      <td>Shortness of breath</td>\n    </tr>\n    <tr>\n      <th>118</th>\n      <td>E_94</td>\n      <td>Chills or shivers</td>\n    </tr>\n    <tr>\n      <th>119</th>\n      <td>E_144</td>\n      <td>Muscle pain</td>\n    </tr>\n    <tr>\n      <th>120</th>\n      <td>E_181</td>\n      <td>Runny or Congested nose</td>\n    </tr>\n  </tbody>\n</table>\n<p>121 rows × 2 columns</p>\n</div>"
     },
     "execution_count": 124,
     "metadata": {},
     "output_type": "execute_result"
    }
   ],
   "source": [
    "symp_ds"
   ],
   "metadata": {
    "collapsed": false,
    "ExecuteTime": {
     "end_time": "2024-05-04T21:46:24.004937Z",
     "start_time": "2024-05-04T21:46:23.999552Z"
    }
   },
   "id": "a7bec91f90417e8c",
   "execution_count": 124
  },
  {
   "cell_type": "code",
   "outputs": [],
   "source": [
    "import ast\n",
    "final_patient_ds = pd.DataFrame(columns=['age', 'sex', 'pathology', 'antecedents', 'symptoms'])\n",
    "unique_antecedents_all = []\n",
    "unique_symptoms_all = []\n",
    "for patient in updated_ds.iterrows():\n",
    "  patient_dict = {\n",
    "    'age': patient[1]['AGE'],\n",
    "    'sex': patient[1]['SEX'],\n",
    "    'pathology': patient[1]['PATHOLOGY'],\n",
    "    'antecedents': None,\n",
    "    'symptoms': None\n",
    "  }\n",
    "  evidences_vals = ast.literal_eval(patient[1]['EVIDENCES'])\n",
    "  symptoms_text = []\n",
    "  antecedents_text = []\n",
    "  # From format [evidence-name]_@_[evidence-value] extract the evidence name and value\n",
    "  for evidence in evidences_vals:\n",
    "    evidence_name  = None\n",
    "    antecedent_name = None\n",
    "    symptom_name = None\n",
    "    if evidence in evidences:\n",
    "      evidence_name  = evidence\n",
    "    else:\n",
    "      evidence_name = evidence.split('_@_')[0]\n",
    "    evidence_details = evidences[evidence_name]\n",
    "    if evidence_details[\"is_antecedent\"]:\n",
    "      antecedents_text.append(evidence_name)\n",
    "    else:\n",
    "      symptoms_text.append(evidence_name)\n",
    "    \n",
    "    if evidence_name not in unique_antecedents_all and evidence_details[\"is_antecedent\"]:\n",
    "        unique_antecedents_all.append(evidence_name)\n",
    "    if evidence_name not in unique_symptoms_all and not evidence_details[\"is_antecedent\"]:\n",
    "        unique_symptoms_all.append(evidence_name)\n",
    "  \n",
    "  ants = set(antecedents_text)\n",
    "  ants_text = []\n",
    "  symps = set(symptoms_text)\n",
    "  symps_text = []\n",
    "  for ant in ants:\n",
    "    antecedent_row = ant_ds[ant_ds['name'] == ant]\n",
    "    if not antecedent_row.empty:\n",
    "      ants_text.append(antecedent_row['antecedent'].values[0])\n",
    "          \n",
    "  for symp in symps:\n",
    "    symptom_row = symp_ds[symp_ds['name'] == symp]\n",
    "    if not symptom_row.empty:\n",
    "      symps_text.append(symptom_row['symptom'].values[0])\n",
    "          \n",
    "  ants_text = list(set(ants_text))\n",
    "  symps_text = list(set(symps_text))\n",
    "  \n",
    "  patient_dict['antecedents'] = \",\".join(ants_text) if len(ants_text) > 0 else \"None\"\n",
    "  patient_dict['symptoms'] = \",\".join(symps_text) if len(symps_text) > 0 else \"None\"\n",
    "      \n",
    "  final_patient_ds = append_row(final_patient_ds, pd.Series(patient_dict))"
   ],
   "metadata": {
    "collapsed": false,
    "ExecuteTime": {
     "end_time": "2024-05-04T21:52:44.993674Z",
     "start_time": "2024-05-04T21:52:44.180302Z"
    }
   },
   "id": "f3c28b8da3d3f888",
   "execution_count": 138
  },
  {
   "cell_type": "code",
   "outputs": [
    {
     "data": {
      "text/plain": "     age sex          pathology  \\\n0     31   F             Anemia   \n1     44   F             Anemia   \n2     26   F             Anemia   \n3     63   F             Anemia   \n4    103   F             Anemia   \n..   ...  ..                ...   \n345   61   M  Viral pharyngitis   \n346   28   F  Viral pharyngitis   \n347   52   F  Viral pharyngitis   \n348   62   M  Viral pharyngitis   \n349   15   M  Viral pharyngitis   \n\n                                           antecedents  \\\n0    Travel,Underweight,Anemia,Diet,Chronic kidney ...   \n1    Travel,Underweight,Pregnancy,Oral anticoagulan...   \n2    Travel,Underweight,Pregnancy,Oral anticoagulan...   \n3    Travel,Pregnancy,Oral anticoagulants,Anemia,Di...   \n4    Travel,Underweight,Pregnancy,Oral anticoagulan...   \n..                                                 ...   \n345  Travel,Smoking,Contact with infected person,Da...   \n346  Travel,Smoking,Contact with infected person,Cr...   \n347  Travel,Contact with infected person,Daycare at...   \n348        Daycare attendance,Travel,Immunosuppression   \n349  Travel,Contact with infected person,Daycare at...   \n\n                                              symptoms  \n0    Black stools,Radiating pain,Pain,Lightheadedne...  \n1    Black stools,Radiating pain,Pain,Lightheadedne...  \n2    Black stools,Radiating pain,Pain,Pain location...  \n3    Radiating pain,Pain,Pain location,Fatigue,Pain...  \n4    Radiating pain,Pain,Lightheadedness,Pain locat...  \n..                                                 ...  \n345  Radiating pain,Pain,Pain location,Coughing up ...  \n346  Radiating pain,Pain,Pain location,Pain intensi...  \n347  Radiating pain,Pain,Pain location,Pain intensi...  \n348  Radiating pain,Pain,Pain location,Coughing up ...  \n349  Radiating pain,Pain,Pain location,Pain intensi...  \n\n[350 rows x 5 columns]",
      "text/html": "<div>\n<style scoped>\n    .dataframe tbody tr th:only-of-type {\n        vertical-align: middle;\n    }\n\n    .dataframe tbody tr th {\n        vertical-align: top;\n    }\n\n    .dataframe thead th {\n        text-align: right;\n    }\n</style>\n<table border=\"1\" class=\"dataframe\">\n  <thead>\n    <tr style=\"text-align: right;\">\n      <th></th>\n      <th>age</th>\n      <th>sex</th>\n      <th>pathology</th>\n      <th>antecedents</th>\n      <th>symptoms</th>\n    </tr>\n  </thead>\n  <tbody>\n    <tr>\n      <th>0</th>\n      <td>31</td>\n      <td>F</td>\n      <td>Anemia</td>\n      <td>Travel,Underweight,Anemia,Diet,Chronic kidney ...</td>\n      <td>Black stools,Radiating pain,Pain,Lightheadedne...</td>\n    </tr>\n    <tr>\n      <th>1</th>\n      <td>44</td>\n      <td>F</td>\n      <td>Anemia</td>\n      <td>Travel,Underweight,Pregnancy,Oral anticoagulan...</td>\n      <td>Black stools,Radiating pain,Pain,Lightheadedne...</td>\n    </tr>\n    <tr>\n      <th>2</th>\n      <td>26</td>\n      <td>F</td>\n      <td>Anemia</td>\n      <td>Travel,Underweight,Pregnancy,Oral anticoagulan...</td>\n      <td>Black stools,Radiating pain,Pain,Pain location...</td>\n    </tr>\n    <tr>\n      <th>3</th>\n      <td>63</td>\n      <td>F</td>\n      <td>Anemia</td>\n      <td>Travel,Pregnancy,Oral anticoagulants,Anemia,Di...</td>\n      <td>Radiating pain,Pain,Pain location,Fatigue,Pain...</td>\n    </tr>\n    <tr>\n      <th>4</th>\n      <td>103</td>\n      <td>F</td>\n      <td>Anemia</td>\n      <td>Travel,Underweight,Pregnancy,Oral anticoagulan...</td>\n      <td>Radiating pain,Pain,Lightheadedness,Pain locat...</td>\n    </tr>\n    <tr>\n      <th>...</th>\n      <td>...</td>\n      <td>...</td>\n      <td>...</td>\n      <td>...</td>\n      <td>...</td>\n    </tr>\n    <tr>\n      <th>345</th>\n      <td>61</td>\n      <td>M</td>\n      <td>Viral pharyngitis</td>\n      <td>Travel,Smoking,Contact with infected person,Da...</td>\n      <td>Radiating pain,Pain,Pain location,Coughing up ...</td>\n    </tr>\n    <tr>\n      <th>346</th>\n      <td>28</td>\n      <td>F</td>\n      <td>Viral pharyngitis</td>\n      <td>Travel,Smoking,Contact with infected person,Cr...</td>\n      <td>Radiating pain,Pain,Pain location,Pain intensi...</td>\n    </tr>\n    <tr>\n      <th>347</th>\n      <td>52</td>\n      <td>F</td>\n      <td>Viral pharyngitis</td>\n      <td>Travel,Contact with infected person,Daycare at...</td>\n      <td>Radiating pain,Pain,Pain location,Pain intensi...</td>\n    </tr>\n    <tr>\n      <th>348</th>\n      <td>62</td>\n      <td>M</td>\n      <td>Viral pharyngitis</td>\n      <td>Daycare attendance,Travel,Immunosuppression</td>\n      <td>Radiating pain,Pain,Pain location,Coughing up ...</td>\n    </tr>\n    <tr>\n      <th>349</th>\n      <td>15</td>\n      <td>M</td>\n      <td>Viral pharyngitis</td>\n      <td>Travel,Contact with infected person,Daycare at...</td>\n      <td>Radiating pain,Pain,Pain location,Pain intensi...</td>\n    </tr>\n  </tbody>\n</table>\n<p>350 rows × 5 columns</p>\n</div>"
     },
     "execution_count": 139,
     "metadata": {},
     "output_type": "execute_result"
    }
   ],
   "source": [
    "final_patient_ds"
   ],
   "metadata": {
    "collapsed": false,
    "ExecuteTime": {
     "end_time": "2024-05-04T21:52:46.259920Z",
     "start_time": "2024-05-04T21:52:46.255014Z"
    }
   },
   "id": "475e667ad3a62335",
   "execution_count": 139
  },
  {
   "cell_type": "code",
   "outputs": [],
   "source": [
    "final_patient_ds.to_csv('patients.csv', index=False)"
   ],
   "metadata": {
    "collapsed": false,
    "ExecuteTime": {
     "end_time": "2024-05-04T21:52:51.886392Z",
     "start_time": "2024-05-04T21:52:51.854195Z"
    }
   },
   "id": "c2e8987e80384ad4",
   "execution_count": 140
  },
  {
   "cell_type": "code",
   "outputs": [],
   "source": [
    "for u_s in unique_symptoms_all:\n",
    "  found = False\n",
    "  for u_s_ in unique_symptoms:\n",
    "    if u_s_['name'] == u_s:\n",
    "      found = True\n",
    "  if not found:\n",
    "    print(u_s)"
   ],
   "metadata": {
    "collapsed": false,
    "ExecuteTime": {
     "end_time": "2024-05-04T21:43:48.821453Z",
     "start_time": "2024-05-04T21:43:48.816067Z"
    }
   },
   "id": "c5fd5a290841b63",
   "execution_count": 121
  },
  {
   "cell_type": "code",
   "outputs": [],
   "source": [
    "for u_a in unique_antecedents_all:\n",
    "  found = False\n",
    "  for u_a_ in unique_antecedents:\n",
    "    if u_a_['name'] == u_a:\n",
    "      found = True\n",
    "  if not found:\n",
    "    print(u_a)"
   ],
   "metadata": {
    "collapsed": false,
    "ExecuteTime": {
     "end_time": "2024-05-04T21:43:57.355848Z",
     "start_time": "2024-05-04T21:43:57.319154Z"
    }
   },
   "id": "5646056f639b5287",
   "execution_count": 122
  },
  {
   "cell_type": "markdown",
   "source": [
    "### Generate the synthetic patient doctor convo summary"
   ],
   "metadata": {
    "collapsed": false
   },
   "id": "19b02b0d7dbf5a9c"
  },
  {
   "cell_type": "code",
   "outputs": [],
   "source": [
    "generation_config_1 = {\n",
    "  \"candidate_count\": 1,\n",
    "  \"max_output_tokens\": 256,\n",
    "  \"temperature\": 0.8\n",
    "}\n",
    "generation_model = genai.GenerativeModel('gemini-pro', safety_settings=safety_settings, generation_config=generation_config_1)"
   ],
   "metadata": {
    "collapsed": false,
    "ExecuteTime": {
     "end_time": "2024-05-04T21:54:50.988217Z",
     "start_time": "2024-05-04T21:54:50.980779Z"
    }
   },
   "id": "1c8f8b863e9c24b8",
   "execution_count": 141
  },
  {
   "cell_type": "code",
   "outputs": [],
   "source": [
    "from openai import OpenAI\n",
    "        \n",
    "client = OpenAI(\n",
    "  api_key='',\n",
    "  base_url=\"https://dbc-71f6065e-3393.cloud.databricks.com/serving-endpoints\"\n",
    ")"
   ],
   "metadata": {
    "collapsed": false,
    "ExecuteTime": {
     "end_time": "2024-05-04T22:26:02.045329Z",
     "start_time": "2024-05-04T22:26:02.010384Z"
    }
   },
   "id": "6ad7e43e3260a85e",
   "execution_count": 163
  },
  {
   "cell_type": "code",
   "outputs": [
    {
     "name": "stdout",
     "output_type": "stream",
     "text": [
      "count 1\n",
      "count 2\n",
      "count 3\n",
      "count 4\n",
      "count 5\n",
      "count 6\n",
      "count 7\n",
      "count 8\n",
      "count 9\n",
      "count 10\n",
      "count 11\n",
      "count 12\n",
      "count 13\n",
      "count 14\n",
      "count 15\n",
      "count 16\n",
      "count 17\n",
      "count 18\n",
      "count 19\n",
      "count 20\n",
      "count 21\n",
      "count 22\n",
      "count 23\n",
      "count 24\n",
      "count 25\n",
      "count 26\n",
      "count 27\n",
      "count 28\n",
      "count 29\n",
      "count 30\n",
      "count 31\n",
      "count 32\n",
      "count 33\n",
      "count 34\n",
      "count 35\n",
      "count 36\n",
      "count 37\n",
      "count 38\n",
      "count 39\n",
      "count 40\n",
      "count 41\n",
      "count 42\n",
      "count 43\n",
      "count 44\n",
      "count 45\n",
      "count 46\n",
      "count 47\n",
      "count 48\n",
      "count 49\n",
      "count 50\n",
      "count 51\n",
      "count 52\n",
      "count 53\n",
      "count 54\n",
      "count 55\n",
      "count 56\n",
      "count 57\n",
      "count 58\n",
      "count 59\n",
      "count 60\n",
      "count 61\n",
      "count 62\n",
      "count 63\n",
      "count 64\n",
      "count 65\n",
      "count 66\n",
      "count 67\n",
      "count 68\n",
      "count 69\n",
      "count 70\n",
      "count 71\n",
      "count 72\n",
      "count 73\n",
      "count 74\n",
      "count 75\n",
      "count 76\n",
      "count 77\n",
      "count 78\n",
      "count 79\n",
      "count 80\n",
      "count 81\n",
      "count 82\n",
      "count 83\n",
      "count 84\n",
      "count 85\n",
      "count 86\n",
      "count 87\n",
      "count 88\n",
      "count 89\n",
      "count 90\n",
      "count 91\n",
      "count 92\n",
      "count 93\n",
      "count 94\n",
      "count 95\n",
      "count 96\n",
      "count 97\n",
      "count 98\n",
      "count 99\n",
      "count 100\n",
      "count 101\n",
      "count 102\n",
      "count 103\n",
      "count 104\n",
      "count 105\n",
      "count 106\n",
      "count 107\n",
      "count 108\n",
      "count 109\n",
      "count 110\n",
      "count 111\n",
      "count 112\n",
      "count 113\n",
      "count 114\n",
      "count 115\n",
      "count 116\n",
      "count 117\n",
      "count 118\n",
      "count 119\n",
      "count 120\n",
      "count 121\n",
      "count 122\n",
      "count 123\n",
      "count 124\n",
      "count 125\n",
      "count 126\n",
      "count 127\n",
      "count 128\n",
      "count 129\n",
      "count 130\n",
      "count 131\n",
      "count 132\n",
      "count 133\n",
      "count 134\n",
      "count 135\n",
      "count 136\n",
      "count 137\n",
      "count 138\n",
      "count 139\n",
      "count 140\n",
      "count 141\n",
      "count 142\n",
      "count 143\n",
      "count 144\n",
      "count 145\n",
      "count 146\n",
      "count 147\n",
      "count 148\n",
      "count 149\n",
      "count 150\n",
      "count 151\n",
      "count 152\n",
      "count 153\n",
      "count 154\n",
      "count 155\n",
      "count 156\n",
      "count 157\n",
      "count 158\n",
      "count 159\n",
      "count 160\n",
      "count 161\n",
      "count 162\n",
      "count 163\n",
      "count 164\n",
      "count 165\n",
      "count 166\n",
      "count 167\n",
      "count 168\n",
      "count 169\n",
      "count 170\n",
      "count 171\n",
      "count 172\n",
      "count 173\n",
      "count 174\n",
      "Failed to generate response for patient age                                                           16\n",
      "sex                                                            F\n",
      "pathology                                              Pneumonia\n",
      "antecedents    Travel,Underweight,Smoking,COPD,Heart failure,...\n",
      "symptoms       Skin peeling,Pain intensity,Skin lesions,Rash ...\n",
      "Name: 174, dtype: object\n",
      "count 175\n",
      "count 176\n",
      "count 177\n",
      "count 178\n",
      "count 179\n",
      "count 180\n",
      "count 181\n",
      "count 182\n",
      "count 183\n",
      "count 184\n",
      "count 185\n",
      "count 186\n",
      "count 187\n",
      "count 188\n",
      "count 189\n",
      "count 190\n",
      "count 191\n",
      "count 192\n",
      "count 193\n",
      "count 194\n",
      "count 195\n",
      "count 196\n",
      "count 197\n",
      "count 198\n",
      "count 199\n",
      "count 200\n",
      "count 201\n",
      "count 202\n",
      "count 203\n",
      "count 204\n",
      "count 205\n",
      "count 206\n",
      "count 207\n",
      "count 208\n",
      "count 209\n",
      "count 210\n",
      "count 211\n",
      "count 212\n",
      "count 213\n",
      "count 214\n",
      "count 215\n",
      "count 216\n",
      "count 217\n",
      "count 218\n",
      "count 219\n",
      "count 220\n",
      "count 221\n",
      "count 222\n",
      "count 223\n",
      "count 224\n",
      "count 225\n",
      "count 226\n",
      "count 227\n",
      "count 228\n",
      "count 229\n",
      "count 230\n",
      "count 231\n",
      "count 232\n",
      "count 233\n",
      "count 234\n",
      "count 235\n",
      "count 236\n",
      "count 237\n",
      "count 238\n",
      "count 239\n",
      "count 240\n",
      "count 241\n",
      "count 242\n",
      "count 243\n",
      "count 244\n",
      "count 245\n",
      "count 246\n",
      "count 247\n",
      "count 248\n",
      "count 249\n",
      "count 250\n",
      "count 251\n",
      "count 252\n",
      "count 253\n",
      "count 254\n",
      "count 255\n",
      "count 256\n",
      "count 257\n",
      "count 258\n",
      "count 259\n",
      "count 260\n",
      "count 261\n",
      "count 262\n",
      "count 263\n",
      "count 264\n",
      "count 265\n",
      "count 266\n",
      "count 267\n",
      "count 268\n",
      "count 269\n",
      "count 270\n",
      "count 271\n",
      "count 272\n",
      "count 273\n",
      "count 274\n",
      "count 275\n",
      "count 276\n",
      "count 277\n",
      "count 278\n",
      "count 279\n",
      "count 280\n",
      "count 281\n",
      "count 282\n",
      "count 283\n",
      "count 284\n",
      "count 285\n",
      "count 286\n",
      "count 287\n",
      "count 288\n",
      "count 289\n",
      "count 290\n",
      "count 291\n",
      "count 292\n",
      "count 293\n",
      "count 294\n",
      "count 295\n",
      "count 296\n",
      "count 297\n",
      "count 298\n",
      "count 299\n",
      "count 300\n",
      "count 301\n",
      "count 302\n",
      "count 303\n",
      "count 304\n",
      "count 305\n",
      "count 306\n",
      "count 307\n",
      "count 308\n",
      "count 309\n",
      "count 310\n",
      "count 311\n",
      "count 312\n",
      "count 313\n",
      "count 314\n",
      "count 315\n",
      "count 316\n",
      "count 317\n",
      "count 318\n",
      "count 319\n",
      "count 320\n",
      "count 321\n",
      "count 322\n",
      "count 323\n",
      "count 324\n",
      "count 325\n",
      "count 326\n",
      "count 327\n",
      "count 328\n",
      "count 329\n",
      "count 330\n",
      "count 331\n",
      "count 332\n",
      "count 333\n",
      "count 334\n",
      "count 335\n",
      "count 336\n",
      "count 337\n",
      "count 338\n",
      "count 339\n",
      "count 340\n",
      "count 341\n",
      "count 342\n",
      "count 343\n",
      "count 344\n",
      "count 345\n",
      "count 346\n",
      "count 347\n",
      "count 348\n",
      "count 349\n"
     ]
    }
   ],
   "source": [
    "master_ds = pd.DataFrame(columns=['age', 'sex', 'pathology', 'antecedents', 'symptoms', 'summary'])\n",
    "count = 0\n",
    "for index, row in final_patient_ds.iterrows():\n",
    "  age = row['age']\n",
    "  sex = row['sex']\n",
    "  pathology = row['pathology']\n",
    "  symptoms = row['symptoms']\n",
    "  antecedents = row['antecedents']\n",
    "  messages = [\n",
    "  {\n",
    "    \"role\": \"system\",\n",
    "    \"content\": \"You are an expert assistant helping a doctor to simulate a summary of the patient's condition and the conversation you had with the patient, the summary should be in 100-500 words, try to be as realistic as possible, write it as simple summary no need to add points in third person POV.\"\n",
    "  },\n",
    "  {\n",
    "    \"role\": \"user\",\n",
    "    \"content\": \"You are a doctor and you are seeing a patient for first or some time now, you have the following information about the patient,  patient is 31 years of gender Female and has been diagnosed with Anemia and has the following symptoms Black stools,Radiating pain,Pain,Lightheadedness,Pain location,Shortness of breath,Dizziness or lightheadedness,Fatigue,Pain intensity,Blood in stool,Pain onset,Heavy menstrual bleeding, and has the following antecedents Travel,Underweight,Anemia,Diet,Chronic kidney failure\"\n",
    "  },{\n",
    "    \"role\": \"assistant\",\n",
    "    \"content\": \"\"\"The patient, a 31-year-old female, visited the clinic due to a range of symptoms related to anemia. She reported feeling increasingly fatigued and dizzy, with episodes of black stools and blood in her stool, suggesting potential gastrointestinal bleeding. Additionally, she experiences severe and radiating pain along with heavy menstrual bleeding, which likely exacerbates her anemia.Her medical history includes frequent travel, being underweight, and dietary challenges. She also has a family history of chronic kidney failure, though she has not been diagnosed with this herself. During our consultation, we discussed her symptoms and medical history in detail. Given her symptoms and history, I ordered laboratory tests including a complete blood count and an assessment for possible gastrointestinal bleeding. We discussed starting iron supplementation immediately and possibly other treatments depending on her test results. We also talked about improving her diet with the help of a nutritionist. The patient was engaged in the discussion and expressed her concerns about her symptoms and their impact on her life. We scheduled a follow-up appointment to review her test results and adjust her treatment plan as needed.\"\"\"\n",
    "    }, {\n",
    "    \"role\": \"user\",\n",
    "    \"content\": f\"\"\"patient is {age} years of gender {\"Male\" if sex == 'M' else 'Female'} and has been diagnosed with {pathology} and has the following symptoms {symptoms}, and has the following antecedents {antecedents}\"\"\"\n",
    "    }\n",
    "  ]\n",
    "  \n",
    "  try:\n",
    "    chat_completion = client.chat.completions.create(\n",
    "    messages=messages,\n",
    "    model=\"databricks-meta-llama-3-70b-instruct\",\n",
    "    max_tokens=512\n",
    "    )\n",
    "    content = chat_completion.choices[0].message.content\n",
    "    row = pd.Series({\n",
    "        'age': age,\n",
    "        'sex': sex,\n",
    "        'pathology': pathology,\n",
    "        'antecedents': antecedents,\n",
    "        'symptoms': symptoms,\n",
    "        'summary': content\n",
    "      })\n",
    "    master_ds = append_row(master_ds, row)\n",
    "    count += 1\n",
    "    print(\"count\", count)\n",
    "  except Exception as e:\n",
    "    print(\"Failed to generate response for patient\", row)\n",
    "  "
   ],
   "metadata": {
    "collapsed": false,
    "ExecuteTime": {
     "end_time": "2024-05-04T22:57:43.743806Z",
     "start_time": "2024-05-04T22:33:35.046884Z"
    }
   },
   "id": "4298b3bcb76c7d41",
   "execution_count": 170
  },
  {
   "cell_type": "code",
   "outputs": [],
   "source": [
    "master_ds.to_csv('master_ds.csv', index=False)"
   ],
   "metadata": {
    "collapsed": false,
    "ExecuteTime": {
     "end_time": "2024-05-04T22:58:44.862435Z",
     "start_time": "2024-05-04T22:58:44.851333Z"
    }
   },
   "id": "1700d550ec3bf802",
   "execution_count": 172
  },
  {
   "cell_type": "code",
   "outputs": [],
   "source": [],
   "metadata": {
    "collapsed": false
   },
   "id": "a5103106fa4b00"
  }
 ],
 "metadata": {
  "kernelspec": {
   "display_name": "Python 3",
   "language": "python",
   "name": "python3"
  },
  "language_info": {
   "codemirror_mode": {
    "name": "ipython",
    "version": 2
   },
   "file_extension": ".py",
   "mimetype": "text/x-python",
   "name": "python",
   "nbconvert_exporter": "python",
   "pygments_lexer": "ipython2",
   "version": "2.7.6"
  }
 },
 "nbformat": 4,
 "nbformat_minor": 5
}
